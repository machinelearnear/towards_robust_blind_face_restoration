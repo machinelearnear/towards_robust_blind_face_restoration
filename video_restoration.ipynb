{
 "cells": [
  {
   "cell_type": "markdown",
   "id": "db6e8764-d868-4166-b0bf-5785525f019f",
   "metadata": {},
   "source": [
    "# Towards Robust Blind Face Restoration with Codebook Lookup Transformer\n",
    "Shangchen Zhou, Kelvin C.K. Chan, Chongyi Li, Chen Change Loy\n",
    "\n",
    "[![arXiv](https://img.shields.io/badge/arXiv-Paper-<COLOR>.svg)](https://arxiv.org/abs/2206.11253)\n",
    "[![GitHub Stars](https://img.shields.io/github/stars/sczhou/CodeFormer?style=social)](https://github.com/sczhou/CodeFormer)\n",
    "![visitors](https://visitor-badge.glitch.me/badge?page_id=sczhou/CodeFormer)"
   ]
  },
  {
   "cell_type": "code",
   "execution_count": 14,
   "id": "a2169066-e447-4310-8071-7349f42ea0da",
   "metadata": {},
   "outputs": [
    {
     "name": "stdout",
     "output_type": "stream",
     "text": [
      "7K-Hk1qt_mk&t=0s&ab_channel=Entretenimientoyalgomas\n"
     ]
    }
   ],
   "source": [
    "from urllib.parse import urlparse\n",
    "\n",
    "url_data = urlparse('https://www.youtube.com/watch?v=7K-Hk1qt_mk&t=0s&ab_channel=Entretenimientoyalgomas')\n",
    "print(url_data.query[2::])"
   ]
  },
  {
   "cell_type": "code",
   "execution_count": 20,
   "id": "db5dc67d-e454-422d-b409-12c72e22b87e",
   "metadata": {},
   "outputs": [
    {
     "data": {
      "text/plain": [
       "'v=7K-Hk1qt_mk&t=0s&ab_channel=Entretenimientoyalgomas'"
      ]
     },
     "execution_count": 20,
     "metadata": {},
     "output_type": "execute_result"
    }
   ],
   "source": [
    "url_data.query"
   ]
  },
  {
   "cell_type": "code",
   "execution_count": null,
   "id": "4af297bd-c939-4a59-962b-8c141d7cf278",
   "metadata": {},
   "outputs": [],
   "source": [
    "import urlparse\n",
    "url_data = urlparse.urlparse(\"http://www.youtube.com/watch?v=z_AbfPXTKms&NR=1\")\n",
    "query = urlparse.parse_qs(url_data.query)\n",
    "video = query[\"v\"][0]"
   ]
  },
  {
   "cell_type": "code",
   "execution_count": null,
   "id": "3cd3410c-9bc9-4a61-b35b-f32c006fad87",
   "metadata": {},
   "outputs": [],
   "source": [
    "try:\n",
    "    import torch\n",
    "    import torchvision\n",
    "except ImportError:\n",
    "    !pip install torch\n",
    "    !pip install torchvision"
   ]
  },
  {
   "cell_type": "code",
   "execution_count": null,
   "id": "346d60d1-cd7e-4f7f-8fd5-13f60aa0bfc3",
   "metadata": {},
   "outputs": [],
   "source": [
    "!nvidia-smi\n",
    "\n",
    "if torch.cuda.is_available():\n",
    "    print('Using GPU')\n",
    "    device = 'cuda'\n",
    "else:\n",
    "    print('CUDA not available. Please connect to a GPU instance if possible.')\n",
    "    device = 'cpu'"
   ]
  },
  {
   "cell_type": "markdown",
   "id": "36aa7523-319e-4a77-ac5d-abb242424287",
   "metadata": {},
   "source": [
    "## Load Data"
   ]
  },
  {
   "cell_type": "markdown",
   "id": "2c4300d7-ee17-44c4-bec7-199aa416c2cf",
   "metadata": {},
   "source": [
    "### Download video from YT"
   ]
  },
  {
   "cell_type": "code",
   "execution_count": null,
   "id": "b810a9be-aca0-4767-af5b-6167e1398bee",
   "metadata": {},
   "outputs": [],
   "source": [
    "import os\n",
    "from os.path import exists as path_exists"
   ]
  },
  {
   "cell_type": "code",
   "execution_count": null,
   "id": "054b9e4e-b584-4aee-a1b2-b85dab931852",
   "metadata": {},
   "outputs": [],
   "source": [
    "if not path_exists('helper.py'):\n",
    "    !wget https://raw.githubusercontent.com/machinelearnear/towards_robust_blind_face_restoration/main/helper.py\n",
    "\n",
    "from helper import vid2frames"
   ]
  },
  {
   "cell_type": "code",
   "execution_count": null,
   "id": "c03dfec4-e4d8-4346-adf1-84bd7eda1c86",
   "metadata": {},
   "outputs": [],
   "source": [
    "youtube_url = 'https://www.youtube.com/watch?v=7K-Hk1qt_mk&t=0s&ab_channel=Entretenimientoyalgomas'\n",
    "video_name = f'videos/{youtube_url.split(\"/\")[-1]}.mp4'"
   ]
  },
  {
   "cell_type": "code",
   "execution_count": null,
   "id": "0662f290-9522-4321-9ea6-eb0ec4e20eb1",
   "metadata": {},
   "outputs": [],
   "source": [
    "if not path_exists(video_name):\n",
    "    skip_frames, path_frames = vid2frames(youtube_url)"
   ]
  },
  {
   "cell_type": "markdown",
   "id": "b9b41ab2-db6b-41dc-b421-0ebebd696f52",
   "metadata": {},
   "source": [
    "### Preview downloaded video"
   ]
  },
  {
   "cell_type": "code",
   "execution_count": null,
   "id": "5e605a31-ed4f-4218-a119-200fae1be1af",
   "metadata": {},
   "outputs": [],
   "source": [
    "from IPython.display import HTML\n",
    "from base64 import b64encode\n",
    "\n",
    "data_url = \"data:video/mp4;base64,\" + b64encode(open(video_name, 'rb').read()).decode()\n",
    "HTML(\"\"\"\n",
    "<video width=400 controls>\n",
    "      <source src=\"%s\" type=\"video/mp4\">\n",
    "</video>\n",
    "\"\"\" % data_url)"
   ]
  },
  {
   "cell_type": "markdown",
   "id": "891be508-e6a4-428b-9407-e7934c6dba7b",
   "metadata": {},
   "source": [
    "## Blind Face Restoration using [CodeFormer](https://github.com/sczhou/CodeFormer)"
   ]
  },
  {
   "cell_type": "markdown",
   "id": "71497dea-6de1-4724-9bc2-d96a8e5b7e93",
   "metadata": {},
   "source": [
    "### Prepare environment"
   ]
  },
  {
   "cell_type": "code",
   "execution_count": 6,
   "id": "a73dfac4-e2de-49ce-a53d-8e97bbcdcdf3",
   "metadata": {},
   "outputs": [
    {
     "data": {
      "text/plain": [
       "'/home/studio-lab-user/towards_robust_blind_face_restoration'"
      ]
     },
     "execution_count": 6,
     "metadata": {},
     "output_type": "execute_result"
    }
   ],
   "source": [
    "if not path_exists('CodeFormer'):\n",
    "    !git clone https://github.com/sczhou/CodeFormer.git\n",
    "    \n",
    "if not 'CodeFormer' in os.getcwd()\n",
    "    %cd CodeFormer\n",
    "    \n",
    "# Set up the environment\n",
    "# Install python dependencies\n",
    "!pip install -r requirements.txt\n",
    "\n",
    "# Install basicsr\n",
    "!python basicsr/setup.py develop\n",
    "\n",
    "# Download the pre-trained model\n",
    "!python scripts/download_pretrained_models.py facelib\n",
    "!python scripts/download_pretrained_models.py CodeFormer"
   ]
  },
  {
   "cell_type": "code",
   "execution_count": null,
   "id": "425112ec-c52b-4b9b-96da-f9c0c841f670",
   "metadata": {},
   "outputs": [],
   "source": [
    "import cv2\n",
    "import matplotlib.pyplot as plt\n",
    "\n",
    "# Visualization function\n",
    "def display(img1, img2):\n",
    "    fig = plt.figure(figsize=(25, 10))\n",
    "    ax1 = fig.add_subplot(1, 2, 1) \n",
    "    plt.title('Real Input', fontsize=16)\n",
    "    ax1.axis('off')\n",
    "    ax2 = fig.add_subplot(1, 2, 2)\n",
    "    plt.title('CodeFormer Output', fontsize=16)\n",
    "    ax2.axis('off')\n",
    "    ax1.imshow(img1)\n",
    "    ax2.imshow(img2)\n",
    "    \n",
    "def imread(img_path):\n",
    "    img = cv2.imread(img_path)\n",
    "    img = cv2.cvtColor(img, cv2.COLOR_BGR2RGB)\n",
    "    return img"
   ]
  },
  {
   "cell_type": "markdown",
   "id": "c382fb5b-f261-443f-9103-11b92d5ef613",
   "metadata": {},
   "source": [
    "### Inference on your frames"
   ]
  },
  {
   "cell_type": "code",
   "execution_count": null,
   "id": "7d80d036-5f70-4d86-8ba7-9d2e6a65ce68",
   "metadata": {},
   "outputs": [],
   "source": [
    "# Inference the uploaded images\n",
    "# We set w to 0.7\n",
    "# you can add '--bg_upsampler realesrgan' to enhance the background\n",
    "w = 0.7\n",
    "!python inference_codeformer.py --w $w --test_path ../frames --bg_upsampler realesrgan"
   ]
  }
 ],
 "metadata": {
  "kernelspec": {
   "display_name": "machinelearnear-default:Python",
   "language": "python",
   "name": "conda-env-machinelearnear-default-py"
  },
  "language_info": {
   "codemirror_mode": {
    "name": "ipython",
    "version": 3
   },
   "file_extension": ".py",
   "mimetype": "text/x-python",
   "name": "python",
   "nbconvert_exporter": "python",
   "pygments_lexer": "ipython3",
   "version": "3.9.13"
  }
 },
 "nbformat": 4,
 "nbformat_minor": 5
}
